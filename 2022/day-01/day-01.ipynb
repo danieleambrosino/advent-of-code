{
 "cells": [
  {
   "cell_type": "markdown",
   "metadata": {},
   "source": [
    "# Day 1: Calorie Counting\n",
    "## Part One\n",
    "Santa's reindeer typically eat regular reindeer food, but they need a lot of magical energy to deliver presents on Christmas. For that, their favorite snack is a special type of star fruit that only grows deep in the jungle. The Elves have brought you on their annual expedition to the grove where the fruit grows.\n",
    "\n",
    "To supply enough magical energy, the expedition needs to retrieve a minimum of fifty stars by December 25th. Although the Elves assure you that the grove has plenty of fruit, you decide to grab any fruit you see along the way, just in case.\n",
    "\n",
    "Collect stars by solving puzzles. Two puzzles will be made available on each day in the Advent calendar; the second puzzle is unlocked when you complete the first. Each puzzle grants one star. Good luck!\n",
    "\n",
    "The jungle must be too overgrown and difficult to navigate in vehicles or access from the air; the Elves' expedition traditionally goes on foot. As your boats approach land, the Elves begin taking inventory of their supplies. One important consideration is food - in particular, the number of Calories each Elf is carrying (your puzzle input).\n",
    "\n",
    "The Elves take turns writing down the number of Calories contained by the various meals, snacks, rations, etc. that they've brought with them, one item per line. Each Elf separates their own inventory from the previous Elf's inventory (if any) by a blank line.\n",
    "\n",
    "For example, suppose the Elves finish writing their items' Calories and end up with the following list:\n",
    "\n",
    "```\n",
    "1000\n",
    "2000\n",
    "3000\n",
    "\n",
    "4000\n",
    "\n",
    "5000\n",
    "6000\n",
    "\n",
    "7000\n",
    "8000\n",
    "9000\n",
    "\n",
    "10000\n",
    "```\n",
    "This list represents the Calories of the food carried by five Elves:\n",
    "\n",
    "The first Elf is carrying food with 1000, 2000, and 3000 Calories, a total of 6000 Calories.\n",
    "The second Elf is carrying one food item with 4000 Calories.\n",
    "The third Elf is carrying food with 5000 and 6000 Calories, a total of 11000 Calories.\n",
    "The fourth Elf is carrying food with 7000, 8000, and 9000 Calories, a total of 24000 Calories.\n",
    "The fifth Elf is carrying one food item with 10000 Calories.\n",
    "In case the Elves get hungry and need extra snacks, they need to know which Elf to ask: they'd like to know how many Calories are being carried by the Elf carrying the most Calories. In the example above, this is 24000 (carried by the fourth Elf).\n",
    "\n",
    "Find the Elf carrying the most Calories. How many total Calories is that Elf carrying?"
   ]
  },
  {
   "cell_type": "markdown",
   "metadata": {},
   "source": [
    "### Solution\n",
    "The Elf carrying the most Calories can be computed by iterating line-wise through the input file, summing up the total Calories for the current Elf and keeping in memory only the best one seen so far.\n",
    "\n",
    "The number of comparisons is proportional to the number of lines read, which correspond to the Calories of the items carried by the Elves. Since the cost of comparing and updating the best Elf is negligible, and the file is scanned only once, the computational complexity of the solution is $O(n)$, where $n$ is the number of lines in the input file."
   ]
  },
  {
   "cell_type": "code",
   "execution_count": 3,
   "metadata": {},
   "outputs": [
    {
     "name": "stdout",
     "output_type": "stream",
     "text": [
      "73211\n"
     ]
    }
   ],
   "source": [
    "best_elf_calories = current_elf_calories = 0\n",
    "\n",
    "with open(\"input.txt\", \"r\") as input_file:\n",
    "    for current_calories in input_file:\n",
    "        if current_calories != \"\\n\":\n",
    "            current_elf_calories += int(current_calories)\n",
    "            continue\n",
    "        if current_elf_calories > best_elf_calories:\n",
    "            best_elf_calories = current_elf_calories\n",
    "        current_elf_calories = 0\n",
    "\n",
    "print(best_elf_calories)"
   ]
  },
  {
   "cell_type": "markdown",
   "metadata": {},
   "source": [
    "## Part Two\n",
    "\n",
    "By the time you calculate the answer to the Elves' question, they've already realized that the Elf carrying the most Calories of food might eventually run out of snacks.\n",
    "\n",
    "To avoid this unacceptable situation, the Elves would instead like to know the total Calories carried by the top three Elves carrying the most Calories. That way, even if one of those Elves runs out of snacks, they still have two backups.\n",
    "\n",
    "In the example above, the top three Elves are the fourth Elf (with 24000 Calories), then the third Elf (with 11000 Calories), then the fifth Elf (with 10000 Calories). The sum of the Calories carried by these three elves is 45000.\n",
    "\n",
    "Find the top three Elves carrying the most Calories. How many Calories are those Elves carrying in total?"
   ]
  },
  {
   "cell_type": "markdown",
   "metadata": {},
   "source": [
    "### Solution\n",
    "\n",
    "While we iterate through the items carried by the Elves, instead of considering only the best Elf this time we can keep track of the top three Elves using an array; for each encountered Elf, if it carries more Calories than the worst among the best three Elves (which is used as a threshold), we keep it and discard the worst (updating the threshold). Finally, we sum up the Calories of the top three Elves.\n",
    "\n",
    "This solution requires iterating through the whole file once, which has a computational complexity of $O(n)$ with respect to the number of items carried by the Elves (i.e. the lines in the input file).\\\n",
    "The cost of discarding the worst Elf is $O(3 + 1)$, because it requires finding the position of the worst Elf in the array (at most 3 accesses to the array) and overwriting it (1 random access operation).\\\n",
    "Updating the threshold has a cost of $O(3)$ too, because it requires finding the \"new\" worst among the top three Elves (3 accesses to the array).\\\n",
    "The overall cost is proportional to $n * (3 + 1 + 3)$, thus the computational complexity is $O(n)$.\n",
    "\n",
    "_(the costs of finding the worst among the top three Elves could be further improved by using more sophisticated data structures for keeping track of the top three Elves, maybe some -balanced?- tree that could provide access to the smallest item in $O(\\log n)$ where $n$ are the top-$n$ Elves we're tracking, but since we're tracking the top **three** Elves and not the top **thousand** Elves, the additional overhead in terms of operations and memory occupation wouldn't be worth it 🙂)_"
   ]
  },
  {
   "cell_type": "code",
   "execution_count": 4,
   "metadata": {},
   "outputs": [
    {
     "name": "stdout",
     "output_type": "stream",
     "text": [
      "213958\n"
     ]
    }
   ],
   "source": [
    "best_elves_calories = [0] * 3\n",
    "threshold = current_elf_calories = 0\n",
    "\n",
    "with open(\"input.txt\", \"r\") as input_file:\n",
    "    for current_calories in input_file:\n",
    "        if current_calories != \"\\n\":\n",
    "            current_elf_calories += int(current_calories)\n",
    "            continue\n",
    "        if current_elf_calories > threshold:\n",
    "            best_elves_calories[best_elves_calories.index(\n",
    "                threshold)] = current_elf_calories\n",
    "            threshold = min(best_elves_calories)\n",
    "        current_elf_calories = 0\n",
    "\n",
    "print(sum(best_elves_calories))\n"
   ]
  }
 ],
 "metadata": {
  "kernelspec": {
   "display_name": "Python 3.10.8 ('advent-of-code': venv)",
   "language": "python",
   "name": "python3"
  },
  "language_info": {
   "codemirror_mode": {
    "name": "ipython",
    "version": 3
   },
   "file_extension": ".py",
   "mimetype": "text/x-python",
   "name": "python",
   "nbconvert_exporter": "python",
   "pygments_lexer": "ipython3",
   "version": "3.10.8"
  },
  "orig_nbformat": 4,
  "vscode": {
   "interpreter": {
    "hash": "73180573fb7f522afd9f87230af4f0407ffe597959ff00cf771e6af092e2ba4e"
   }
  }
 },
 "nbformat": 4,
 "nbformat_minor": 2
}
