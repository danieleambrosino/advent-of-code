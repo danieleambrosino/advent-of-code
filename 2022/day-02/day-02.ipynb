{
 "cells": [
  {
   "cell_type": "markdown",
   "metadata": {},
   "source": [
    "# Day 2: Rock Paper Scissors\n",
    "## Part One\n",
    "The Elves begin to set up camp on the beach. To decide whose tent gets to be closest to the snack storage, a giant Rock Paper Scissors tournament is already in progress.\n",
    "\n",
    "Rock Paper Scissors is a game between two players. Each game contains many rounds; in each round, the players each simultaneously choose one of Rock, Paper, or Scissors using a hand shape. Then, a winner for that round is selected: Rock defeats Scissors, Scissors defeats Paper, and Paper defeats Rock. If both players choose the same shape, the round instead ends in a draw.\n",
    "\n",
    "Appreciative of your help yesterday, one Elf gives you an encrypted strategy guide (your puzzle input) that they say will be sure to help you win. \"The first column is what your opponent is going to play: A for Rock, B for Paper, and C for Scissors. The second column--\" Suddenly, the Elf is called away to help with someone's tent.\n",
    "\n",
    "The second column, you reason, must be what you should play in response: X for Rock, Y for Paper, and Z for Scissors. Winning every time would be suspicious, so the responses must have been carefully chosen.\n",
    "\n",
    "The winner of the whole tournament is the player with the highest score. Your total score is the sum of your scores for each round. The score for a single round is the score for the shape you selected (1 for Rock, 2 for Paper, and 3 for Scissors) plus the score for the outcome of the round (0 if you lost, 3 if the round was a draw, and 6 if you won).\n",
    "\n",
    "Since you can't be sure if the Elf is trying to help you or trick you, you should calculate the score you would get if you were to follow the strategy guide.\n",
    "\n",
    "For example, suppose you were given the following strategy guide:\n",
    "```\n",
    "A Y\n",
    "B X\n",
    "C Z\n",
    "```\n",
    "This strategy guide predicts and recommends the following:\n",
    "\n",
    "In the first round, your opponent will choose Rock (A), and you should choose Paper (Y). This ends in a win for you with a score of 8 (2 because you chose Paper + 6 because you won).\n",
    "In the second round, your opponent will choose Paper (B), and you should choose Rock (X). This ends in a loss for you with a score of 1 (1 + 0).\n",
    "The third round is a draw with both players choosing Scissors, giving you a score of 3 + 3 = 6.\n",
    "In this example, if you were to follow the strategy guide, you would get a total score of 15 (8 + 1 + 6).\n",
    "\n",
    "What would your total score be if everything goes exactly according to your strategy guide?"
   ]
  },
  {
   "cell_type": "markdown",
   "metadata": {},
   "source": [
    "### Solution\n",
    "\n",
    "The core part of the problem is defining a function capable of computing the points earned in a game. In order to do that, we need to define first a function which returns the outcome of a game given the choices of the two players.\\\n",
    "Putting it in math terms, given the set of possible choices\n",
    "$$C := \\{ \\text{rock},\\text{paper},\\text{scissors} \\}$$\n",
    "and the set of outcomes\n",
    "$$O := \\{ \\text{draw}, \\text{first}, \\text{second} \\}$$\n",
    "where $\\text{first}$ means that the first player wins and $\\text{second}$ means that the second player wins, we need to implement a function $o$ (outcome) which takes two choices and returns the outcome of a game\n",
    "$$o: C^2 \\mapsto O$$\n",
    "following the basic rules of Rock Paper Scissors.\n",
    "\n",
    "A lot of possible approaches can be used. The most naif approach is the one that requires using a sequence of `if` statements dealing with each case. Ew. That stinks. We could do definitely better than that!\n",
    "\n",
    "In a more abstract way, the rules of Rock Paper Scissors can be synthesized as follows:\n",
    "- two equal choices lead to a draw;\n",
    "- if we define an order relation on the set $C$ such as $\\text{rock} < \\text{paper} < \\text{scissors}$:\n",
    "    - if two choices are consecutive according to our ordering, the greater one beats the smaller one ($\\text{paper}$ beats $\\text{rock}$, $\\text{scissors}$ beats $\\text{paper}$)\n",
    "    - if two choices are not consecutive, the smaller one beats the greater one ($\\text{rock}$ beats $\\text{scissors}$)\n",
    "\n",
    "We need to find a mathematical function which respects these properties.\\\n",
    "Let's start by assigning a numerical value to each choice as suggested by the prompt:\n",
    "$$g: C \\mapsto \\mathbb{Z}$$\n",
    "$$g(c) = \\begin{cases}\n",
    "1 & \\text{if } c = \\text{rock}\\\\\n",
    "2 & \\text{if } c = \\text{paper}\\\\\n",
    "3 & \\text{if } c = \\text{scissors}\\\\\n",
    "\\end{cases}$$"
   ]
  },
  {
   "cell_type": "code",
   "execution_count": 17,
   "metadata": {},
   "outputs": [],
   "source": [
    "from enum import Enum\n",
    "\n",
    "\n",
    "class Choice(Enum):\n",
    "    ROCK = 1\n",
    "    PAPER = 2\n",
    "    SCISSORS = 3"
   ]
  },
  {
   "cell_type": "markdown",
   "metadata": {},
   "source": [
    "We can immediately notice that this mapping follows the theoretical order relation we were just talking about. Nice!\n",
    "\n",
    "A good starting point could be focusing on the simplest case: the draw. We must have\n",
    "$$o(\\text{rock}, \\text{rock}) = o(\\text{paper}, \\text{paper}) = o(\\text{scissors}, \\text{scissors}) = \\text{draw}$$\n",
    "A suitable operation for having something similiar could be the subtraction. If we define $o$ in such a way:\n",
    "$$o(c_1, c_2) = h(g(c_1) - g(c_2))$$\n",
    "where $h: \\mathbb{Z} \\mapsto O$ is a function that maps integers back to outcomes, the previous equation would become\n",
    "$$\\begin{align*}\n",
    "o(\\text{rock}, \\text{rock}) &= h(1 - 1)\\\\\n",
    "= o(\\text{paper}, \\text{paper}) &= h(2 - 2)\\\\\n",
    "= o(\\text{scissors}, \\text{scissors}) &= h(3 - 3)\\\\\n",
    "\\text{draw} &= h(0)\n",
    "\\end{align*}$$\n",
    "This could work. Let's keep it for now.\\\n",
    "Let's try and define the mapping $h$ between numbers and outcomes. According to the function we've just found, we know that we should assign the number $0$ to the outcome $\\text{draw}$. A possible mapping could be\n",
    "\n",
    "$$h: \\{0, 1, 2\\} \\mapsto O$$\n",
    "$$h(n) = \\begin{cases}\n",
    "\\text{draw} & \\text{if } n = 0\\\\\n",
    "\\text{first} & \\text{if } n = 1\\\\\n",
    "\\text{second} & \\text{if } n = 2\\\\\n",
    "\\end{cases}$$\n",
    "\n",
    "It becomes immediately clear, though, that our definition of $o$ is still incomplete. It deals correctly with the draws, but the win/lost outcomes are still undefined according to our definition of $h$.\n",
    "$$o(\\text{rock}, \\text{paper}) = h(g(\\text{rock}) - g(\\text{paper})) = h(1 - 2) = h(-1) = ?$$\n",
    "We should keep the input of $h$ in the set $\\{0, 1, 2\\}$. Modular arithmetic seems perfect for this purpose!\\\n",
    "We can use the ring of integers modulo 3 as the domain of the function $h$\n",
    "$$\\frac{\\mathbb{Z}}{3 \\mathbb{Z}} = \\{0, 1, 2\\}$$\n",
    "such as now $h$ is defined as\n",
    "$$h: \\frac{\\mathbb{Z}}{3\\mathbb{Z}} \\mapsto O$$\n",
    "$$h(n) = \\begin{cases}\n",
    "\\text{draw} & \\text{if } n = 0\\\\\n",
    "\\text{first} & \\text{if } n = 1\\\\\n",
    "\\text{second} & \\text{if } n = 2\\\\\n",
    "\\end{cases}$$"
   ]
  },
  {
   "cell_type": "code",
   "execution_count": 18,
   "metadata": {},
   "outputs": [],
   "source": [
    "class Outcome(Enum):\n",
    "    DRAW = 0\n",
    "    FIRST = 1\n",
    "    SECOND = 2\n",
    "\n",
    "outcomes: dict[int, Outcome] = {\n",
    "    v.value: v for v in Outcome.__members__.values()\n",
    "}"
   ]
  },
  {
   "cell_type": "markdown",
   "metadata": {},
   "source": [
    "Let's redefine $o$ accordingly, to always feed $h$ a number in the ring of integers modulo 3:\n",
    "\n",
    "$$o(c_1, c_2) = h((g(c_1) - g(c_2)) \\mod 3)$$"
   ]
  },
  {
   "cell_type": "code",
   "execution_count": 19,
   "metadata": {},
   "outputs": [],
   "source": [
    "def outcome(first: Choice, second: Choice) -> Outcome:\n",
    "    return outcomes[(first.value - second.value) % 3]"
   ]
  },
  {
   "cell_type": "markdown",
   "metadata": {},
   "source": [
    "Ok, with the modulo operation now we're guaranteed that $h$ always takes a valid input. But are the results meaningful just by taking the result of the modulo operation or do we have to further improve $o$? Let's think about that for a moment.\\\n",
    "The draw case is preserved: $0 \\mod 3$ is still $0$, no matter the modulus. Good.\\\n",
    "In case of consecutive choices (i.e. \"at distance $1$\") where the first choice wins (paper vs rock, scissors vs paper) we always have $1 \\mod 3 = 1$. In the opposite case (second choice wins, rock vs paper or paper vs scissors), we always have $-1 \\mod 3 = 2$. Good!\\\n",
    "In case of non-consecutive choices (i.e. \"at distance $2$\") where the first choice wins (rock vs scissors), we have $-2 \\mod 3 = 1$ and, on the contrary (second choice winning), we have $2 \\mod 3 = 2$. It seems perfect!\n",
    "\n",
    "$$o(\\text{paper}, \\text{rock}) = h(2 - 1 \\mod 3) = h(1) = \\text{first}$$\n",
    "$$o(\\text{rock}, \\text{paper}) = h(1 - 2 \\mod 3) = h(-1 \\mod 3) = h(2) = \\text{second}$$\n",
    "$$o(\\text{scissors}, \\text{paper}) = h(3 - 2 \\mod 3) = h(1) = \\text{first}$$\n",
    "$$o(\\text{paper}, \\text{scissors}) = h(1 - 2 \\mod 3) = h(-1 \\mod 3) = h(2) = \\text{second}$$\n",
    "$$o(\\text{rock}, \\text{scissors}) = h(1 - 3 \\mod 3) = h(-2 \\mod 3) = h(1) = \\text{first}$$\n",
    "$$o(\\text{scissors}, \\text{rock}) = h(3 - 1 \\mod 3) = h(2) = \\text{second}$$"
   ]
  },
  {
   "cell_type": "code",
   "execution_count": 20,
   "metadata": {},
   "outputs": [
    {
     "name": "stdout",
     "output_type": "stream",
     "text": [
      "Outcome.FIRST\n",
      "Outcome.SECOND\n",
      "Outcome.FIRST\n",
      "Outcome.SECOND\n",
      "Outcome.FIRST\n",
      "Outcome.SECOND\n"
     ]
    }
   ],
   "source": [
    "print(outcome(Choice.PAPER, Choice.ROCK))\n",
    "print(outcome(Choice.ROCK, Choice.PAPER))\n",
    "print(outcome(Choice.SCISSORS, Choice.PAPER))\n",
    "print(outcome(Choice.PAPER, Choice.SCISSORS))\n",
    "print(outcome(Choice.ROCK, Choice.SCISSORS))\n",
    "print(outcome(Choice.SCISSORS, Choice.ROCK))"
   ]
  },
  {
   "cell_type": "markdown",
   "metadata": {},
   "source": [
    "Bingo! 😎\n",
    "\n",
    "The final part is pretty straightforward: we have to define a function $p$ that returns the points earned by each game.\n",
    "It's as easy as taking the integer value of our choice and summing it to a predefined constant depending on the outcome of the game. Let's assume that we're always the first player, so the outcome $\\text{first}$ corresponds to a win.\n",
    "\n",
    "$$m: O \\mapsto \\mathbb{Z}$$\n",
    "$$m(o) = \\begin{cases}\n",
    "0 & \\text{if } o = \\text{second}\\\\\n",
    "3 & \\text{if } o = \\text{draw}\\\\\n",
    "6 & \\text{if } o = \\text{first}\n",
    "\\end{cases}$$"
   ]
  },
  {
   "cell_type": "code",
   "execution_count": 21,
   "metadata": {},
   "outputs": [],
   "source": [
    "points_by_outcome: dict[Outcome, int] = {\n",
    "    Outcome.SECOND: 0,\n",
    "    Outcome.DRAW: 3,\n",
    "    Outcome.FIRST: 6,\n",
    "}"
   ]
  },
  {
   "cell_type": "markdown",
   "metadata": {},
   "source": [
    "Now we can implement the function that returns the points earned in a game\n",
    "\n",
    "$$p: C^2 \\mapsto \\mathbb{Z}$$\n",
    "$$p(c_1, c_2) = g(c_1) + m(o(c_1, c_2))$$"
   ]
  },
  {
   "cell_type": "code",
   "execution_count": 22,
   "metadata": {},
   "outputs": [],
   "source": [
    "def earned_points(me: Choice, opponent: Choice) -> int:\n",
    "    return me.value + points_by_outcome[outcome(me, opponent)]"
   ]
  },
  {
   "cell_type": "markdown",
   "metadata": {},
   "source": [
    "Let's build a mapping between the letters of the input file and the actual choice for convenience."
   ]
  },
  {
   "cell_type": "code",
   "execution_count": 23,
   "metadata": {},
   "outputs": [],
   "source": [
    "letter_to_choice_map: dict[str, Choice] = {\n",
    "    \"A\": Choice.ROCK,\n",
    "    \"X\": Choice.ROCK,\n",
    "    \"B\": Choice.PAPER,\n",
    "    \"Y\": Choice.PAPER,\n",
    "    \"C\": Choice.SCISSORS,\n",
    "    \"Z\": Choice.SCISSORS,\n",
    "}"
   ]
  },
  {
   "cell_type": "markdown",
   "metadata": {},
   "source": [
    "Finally, we iterate through all the matches and compute the total score."
   ]
  },
  {
   "cell_type": "code",
   "execution_count": 24,
   "metadata": {},
   "outputs": [
    {
     "name": "stdout",
     "output_type": "stream",
     "text": [
      "12679\n"
     ]
    }
   ],
   "source": [
    "total_score = 0\n",
    "with open(\"input.txt\", \"r\") as input_file:\n",
    "    for match in input_file:\n",
    "        opponent, me = [letter_to_choice_map[c.strip()]\n",
    "                        for c in match.split(maxsplit=2)]\n",
    "        total_score += earned_points(me, opponent)\n",
    "\n",
    "print(total_score)"
   ]
  },
  {
   "cell_type": "markdown",
   "metadata": {},
   "source": [
    "## Part Two\n",
    "The Elf finishes helping with the tent and sneaks back over to you. \"Anyway, the second column says how the round needs to end: X means you need to lose, Y means you need to end the round in a draw, and Z means you need to win. Good luck!\"\n",
    "\n",
    "The total score is still calculated in the same way, but now you need to figure out what shape to choose so the round ends as indicated. The example above now goes like this:\n",
    "\n",
    "In the first round, your opponent will choose Rock (A), and you need the round to end in a draw (Y), so you also choose Rock. This gives you a score of 1 + 3 = 4.\n",
    "In the second round, your opponent will choose Paper (B), and you choose Rock so you lose (X) with a score of 1 + 0 = 1.\n",
    "In the third round, you will defeat your opponent's Scissors with Rock for a score of 1 + 6 = 7.\n",
    "Now that you're correctly decrypting the ultra top secret strategy guide, you would get a total score of 12.\n",
    "\n",
    "Following the Elf's instructions for the second column, what would your total score be if everything goes exactly according to your strategy guide?"
   ]
  },
  {
   "cell_type": "markdown",
   "metadata": {},
   "source": [
    "### Solution\n",
    "\n",
    "This time we have to build a function which takes the opponent's choice and the outcome of the game and returns \"our\" choice that produced the given outcome.\n",
    "\n",
    "$$k: (C, O) \\mapsto C$$\n",
    "\n",
    "Let's tinker with the numbers corresponding to choices and outcomes according to the functions we defined in the previous part. Quick recall:\n",
    "$$g(c) = \\begin{cases}\n",
    "1 & \\text{if } c = \\text{rock}\\\\\n",
    "2 & \\text{if } c = \\text{paper}\\\\\n",
    "3 & \\text{if } c = \\text{scissors}\\\\\n",
    "\\end{cases}\n",
    "\\quad\n",
    "h(n) = \\begin{cases}\n",
    "\\text{draw} & \\text{if } n = 0\\\\\n",
    "\\text{first} & \\text{if } n = 1\\\\\n",
    "\\text{second} & \\text{if } n = 2\\\\\n",
    "\\end{cases}$$\n",
    "\n",
    "Let's define $g^{-1}$, the inverse of $g$\n",
    "\n",
    "$$g^{-1}: \\{1, 2, 3\\} \\mapsto C$$\n",
    "$$g^{-1}(n) = \\begin{cases}\n",
    "\\text{rock} & \\text{if } n = 1\\\\\n",
    "\\text{paper} & \\text{if } n = 2\\\\\n",
    "\\text{scissors} & \\text{if } n = 3\\\\\n",
    "\\end{cases}$$"
   ]
  },
  {
   "cell_type": "code",
   "execution_count": 25,
   "metadata": {},
   "outputs": [],
   "source": [
    "choices: dict[int, Choice] = {\n",
    "    c.value: c for c in Choice.__members__.values()\n",
    "}"
   ]
  },
  {
   "cell_type": "markdown",
   "metadata": {},
   "source": [
    "and $h^{-1}$, the inverse of $h$\n",
    "\n",
    "$$h^{-1}(o): O \\mapsto \\frac{\\mathbb{Z}}{3\\mathbb{Z}}$$\n",
    "$$h^{-1}(o) = \\begin{cases}\n",
    "0 & \\text{if } n = \\text{draw}\\\\\n",
    "1 & \\text{if } n = \\text{first}\\\\\n",
    "2 & \\text{if } n = \\text{second}\\\\\n",
    "\\end{cases}$$\n",
    "\n",
    "The simplest case to start with is always the draw: given a choice and a draw as the outcome, the function should return the same choice as the input one. A draw behaves like a neutral element, from an algebraic perspective. The numerical value previously associated with a draw is 0. It seems a pretty convenient choice now... do you know any binary operation whose neutral element is 0? 🤔\\\n",
    "Yes, the sum operation seems a good starting point! Let's define $k$ as\n",
    "$$k(c, o) = g^{-1}(g(c) + h^{-1}(o))$$\n",
    "\n",
    "Since the domain of k is $\\{1, 2, 3\\}$, we must guarantee that its input stays valid. To keep the value of the sum $\\in \\{1, 2, 3\\}$, we can use again the magic of the modular arithmetic to stay in $\\mathbb{Z}/3\\mathbb{Z}$... and then just add $1$ to \"shift\" the result!\n",
    "$$k(c, o) = g^{-1}((g(c) + h^{-1}(o) \\mod 3) + 1)$$\n",
    "\n",
    "Okay! Now at least we're guaranteed to provide $g^{-1}$ admissible values.\n",
    "\n",
    "Now that we are sure that the expression is \"syntactically\" correct, let's focus on its \"semantics\".\\\n",
    "Let's verify if our current definition of $k$ returns the right result.\n",
    "\n",
    "Let's consider again the draw case: our opponent played $\\text{rock}$ and the outcome must be $\\text{draw}$, so our choice must be $\\text{rock}$ too.\n",
    "\n",
    "$$\\begin{align*}\n",
    "    k(\\text{rock}, \\text{draw}) &= g^{-1}((g(\\text{rock}) + h^{-1}(\\text{draw}) \\mod 3) + 1)\\\\\n",
    "    &= g^{-1}((1 + 0 \\mod 3) + 1)\\\\\n",
    "    &= g^{-1}(2) = \\text{paper} \\neq \\text{rock}\n",
    "\\end{align*}$$\n",
    "\n",
    "Looks like we fixed the syntax but broke the semantics! The error is quite trivial though. Since we're always adding $1$ after the modulo operation, our result is \"shifted\"! To compensate, we should simply subtract $1$ to the operand of the modulo.\n",
    "$$k(c, o) = g^{-1}((g(c) + h^{-1}(o) - 1 \\mod 3) + 1)$$"
   ]
  },
  {
   "cell_type": "code",
   "execution_count": 26,
   "metadata": {},
   "outputs": [],
   "source": [
    "def choice_by_outcome(opponent: Choice, outcome: Outcome) -> Choice:\n",
    "    return choices[(opponent.value + outcome.value - 1) % 3 + 1]"
   ]
  },
  {
   "cell_type": "markdown",
   "metadata": {},
   "source": [
    "Let's verify again with the previous example and let's do also another couple of checks:\n",
    "$$\\begin{align*}\n",
    "    k(\\text{rock}, \\text{draw}) &= g^{-1}((g(\\text{rock}) + h^{-1}(\\text{draw}) - 1 \\mod 3) + 1)\\\\\n",
    "    &= g^{-1}((1 + 0 - 1 \\mod 3) + 1)\\\\\n",
    "    &= g^{-1}(1) = \\text{rock}\n",
    "\\end{align*}$$\n",
    "$$\\begin{align*}\n",
    "    k(\\text{rock}, \\text{first}) &= g^{-1}((g(\\text{rock}) + h^{-1}(\\text{first}) - 1 \\mod 3) + 1)\\\\\n",
    "    &= g^{-1}((1 + 1 - 1\\mod 3) + 1)\\\\\n",
    "    &= g^{-1}(2) = \\text{paper}\n",
    "\\end{align*}$$\n",
    "$$\\begin{align*}\n",
    "    k(\\text{scissors}, \\text{second}) &= g^{-1}((g(\\text{scissors}) + h^{-1}(\\text{second}) - 1 \\mod 3) + 1)\\\\\n",
    "    &= g^{-1}((3 + 2 - 1\\mod 3) + 1)\\\\\n",
    "    &= g^{-1}((4 \\mod 3) + 1)\\\\\n",
    "    &= g^{-1}(1 + 1) = g^{-1}(2) = \\text{paper}\n",
    "\\end{align*}$$"
   ]
  },
  {
   "cell_type": "code",
   "execution_count": 27,
   "metadata": {},
   "outputs": [
    {
     "name": "stdout",
     "output_type": "stream",
     "text": [
      "Choice.ROCK\n",
      "Choice.PAPER\n",
      "Choice.PAPER\n"
     ]
    }
   ],
   "source": [
    "print(choice_by_outcome(Choice.ROCK, Outcome.DRAW))\n",
    "print(choice_by_outcome(Choice.ROCK, Outcome.FIRST))\n",
    "print(choice_by_outcome(Choice.SCISSORS, Outcome.SECOND))"
   ]
  },
  {
   "cell_type": "markdown",
   "metadata": {},
   "source": [
    "Nailed it 😎\n",
    "Now let's redefine the function to compute the earned points\n",
    "$$p: (C, O) \\mapsto \\mathbb{Z}$$\n",
    "$$p(c, o) = g(k(c, 0)) + m(o)$$"
   ]
  },
  {
   "cell_type": "code",
   "execution_count": 28,
   "metadata": {},
   "outputs": [],
   "source": [
    "del earned_points\n",
    "def earned_points(opponent: Choice, outcome: Outcome) -> int:\n",
    "    return choice_by_outcome(opponent, outcome).value \\\n",
    "        + points_by_outcome[outcome]\n"
   ]
  },
  {
   "cell_type": "markdown",
   "metadata": {},
   "source": [
    "Let's build a mapping between the letters of the input file and the outcome for convenience."
   ]
  },
  {
   "cell_type": "code",
   "execution_count": 29,
   "metadata": {},
   "outputs": [],
   "source": [
    "letter_to_outcome_map: dict[str, Outcome] = {\n",
    "    \"X\": Outcome.SECOND,\n",
    "    \"Y\": Outcome.DRAW,\n",
    "    \"Z\": Outcome.FIRST,\n",
    "}"
   ]
  },
  {
   "cell_type": "markdown",
   "metadata": {},
   "source": [
    "Finally, we iterate through all the matches and compute the total score."
   ]
  },
  {
   "cell_type": "code",
   "execution_count": 30,
   "metadata": {},
   "outputs": [
    {
     "name": "stdout",
     "output_type": "stream",
     "text": [
      "14470\n"
     ]
    }
   ],
   "source": [
    "total_score = 0\n",
    "with open(\"input.txt\", \"r\") as input_file:\n",
    "    for match in input_file:\n",
    "        match = match.split(maxsplit=2)\n",
    "        opponent = letter_to_choice_map[match[0].strip()]\n",
    "        outcome = letter_to_outcome_map[match[1].strip()]\n",
    "        total_score += earned_points(opponent, outcome)\n",
    "\n",
    "print(total_score)"
   ]
  }
 ],
 "metadata": {
  "kernelspec": {
   "display_name": "Python 3.10.8 ('advent-of-code': venv)",
   "language": "python",
   "name": "python3"
  },
  "language_info": {
   "codemirror_mode": {
    "name": "ipython",
    "version": 3
   },
   "file_extension": ".py",
   "mimetype": "text/x-python",
   "name": "python",
   "nbconvert_exporter": "python",
   "pygments_lexer": "ipython3",
   "version": "3.10.8"
  },
  "orig_nbformat": 4,
  "vscode": {
   "interpreter": {
    "hash": "73180573fb7f522afd9f87230af4f0407ffe597959ff00cf771e6af092e2ba4e"
   }
  }
 },
 "nbformat": 4,
 "nbformat_minor": 2
}
