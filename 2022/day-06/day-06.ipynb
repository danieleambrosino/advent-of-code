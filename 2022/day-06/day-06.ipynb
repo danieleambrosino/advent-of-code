{
 "cells": [
  {
   "cell_type": "markdown",
   "metadata": {},
   "source": [
    "<h2>--- Day 6: Tuning Trouble ---</h2><p>The preparations are finally complete; you and the Elves leave camp on foot and begin to make your way toward the <em class=\"star\">star</em> fruit grove.</p>\n",
    "<p>As you move through the dense undergrowth, one of the Elves gives you a handheld <em>device</em>. He says that it has many fancy features, but the most important one to set up right now is the <em>communication system</em>.</p>\n",
    "<p>However, because he's heard you have <a href=\"/2016/day/6\">significant</a> <a href=\"/2016/day/25\">experience</a> <a href=\"/2019/day/7\">dealing</a> <a href=\"/2019/day/9\">with</a> <a href=\"/2019/day/16\">signal-based</a> <a href=\"/2021/day/25\">systems</a>, he convinced the other Elves that it would be okay to give you their one malfunctioning device - surely you'll have no problem fixing it.</p>\n",
    "<p>As if inspired by comedic timing, the device emits a few <span title=\"The magic smoke, on the other hand, seems to be contained... FOR NOW!\">colorful sparks</span>.</p>\n",
    "<p>To be able to communicate with the Elves, the device needs to <em>lock on to their signal</em>. The signal is a series of seemingly-random characters that the device receives one at a time.</p>\n",
    "<p>To fix the communication system, you need to add a subroutine to the device that detects a <em>start-of-packet marker</em> in the datastream. In the protocol being used by the Elves, the start of a packet is indicated by a sequence of <em>four characters that are all different</em>.</p>\n",
    "<p>The device will send your subroutine a datastream buffer (your puzzle input); your subroutine needs to identify the first position where the four most recently received characters were all different. Specifically, it needs to report the number of characters from the beginning of the buffer to the end of the first such four-character marker.</p>\n",
    "<p>For example, suppose you receive the following datastream buffer:</p>\n",
    "<pre><code>mjqjpqmgbljsphdztnvjfqwrcgsmlb</code></pre>\n",
    "<p>After the first three characters (<code>mjq</code>) have been received, there haven't been enough characters received yet to find the marker. The first time a marker could occur is after the fourth character is received, making the most recent four characters <code>mjqj</code>. Because <code>j</code> is repeated, this isn't a marker.</p>\n",
    "<p>The first time a marker appears is after the <em>seventh</em> character arrives. Once it does, the last four characters received are <code>jpqm</code>, which are all different. In this case, your subroutine should report the value <code><em>7</em></code>, because the first start-of-packet marker is complete after 7 characters have been processed.</p>\n",
    "<p>Here are a few more examples:</p>\n",
    "<ul>\n",
    "<li><code>bvwbjplbgvbhsrlpgdmjqwftvncz</code>: first marker after character <code><em>5</em></code></li>\n",
    "<li><code>nppdvjthqldpwncqszvftbrmjlhg</code>: first marker after character <code><em>6</em></code></li>\n",
    "<li><code>nznrnfrfntjfmvfwmzdfjlvtqnbhcprsg</code>: first marker after character <code><em>10</em></code></li>\n",
    "<li><code>zcfzfwzzqfrljwzlrfnpqdbhtmscgvjw</code>: first marker after character <code><em>11</em></code></li>\n",
    "</ul>\n",
    "<p><em>How many characters need to be processed before the first start-of-packet marker is detected?</em></p>"
   ]
  },
  {
   "cell_type": "markdown",
   "metadata": {},
   "source": [
    "### Solution"
   ]
  },
  {
   "cell_type": "code",
   "execution_count": 7,
   "metadata": {},
   "outputs": [
    {
     "name": "stdout",
     "output_type": "stream",
     "text": [
      "1658\n"
     ]
    }
   ],
   "source": [
    "from collections import deque\n",
    "\n",
    "with open(\"input.txt\", \"r\") as file:\n",
    "    sequence = file.readline().strip()\n",
    "\n",
    "\n",
    "def count_chars_before_marker(sequence: str, marker_length: int) -> int:\n",
    "    window = deque(sequence[:marker_length], maxlen=marker_length)\n",
    "    counter = marker_length\n",
    "    while len(set(window)) < marker_length:\n",
    "        window.append(sequence[counter])\n",
    "        counter += 1\n",
    "    return counter\n",
    "\n",
    "\n",
    "def part_one(sequence: str) -> int:\n",
    "    return count_chars_before_marker(sequence, 4)\n",
    "\n",
    "\n",
    "print(part_one(sequence))"
   ]
  },
  {
   "cell_type": "markdown",
   "metadata": {},
   "source": [
    "<h2 id=\"part2\">--- Part Two ---</h2><p>Your device's communication system is correctly detecting packets, but still isn't working. It looks like it also needs to look for <em>messages</em>.</p>\n",
    "<p>A <em>start-of-message marker</em> is just like a start-of-packet marker, except it consists of <em>14 distinct characters</em> rather than 4.</p>\n",
    "<p>Here are the first positions of start-of-message markers for all of the above examples:</p>\n",
    "<ul>\n",
    "<li><code>mjqjpqmgbljsphdztnvjfqwrcgsmlb</code>: first marker after character <code><em>19</em></code></li>\n",
    "<li><code>bvwbjplbgvbhsrlpgdmjqwftvncz</code>: first marker after character <code><em>23</em></code></li>\n",
    "<li><code>nppdvjthqldpwncqszvftbrmjlhg</code>: first marker after character <code><em>23</em></code></li>\n",
    "<li><code>nznrnfrfntjfmvfwmzdfjlvtqnbhcprsg</code>: first marker after character <code><em>29</em></code></li>\n",
    "<li><code>zcfzfwzzqfrljwzlrfnpqdbhtmscgvjw</code>: first marker after character <code><em>26</em></code></li>\n",
    "</ul>\n",
    "<p><em>How many characters need to be processed before the first start-of-message marker is detected?</em></p>"
   ]
  },
  {
   "cell_type": "code",
   "execution_count": 8,
   "metadata": {},
   "outputs": [
    {
     "name": "stdout",
     "output_type": "stream",
     "text": [
      "2260\n"
     ]
    }
   ],
   "source": [
    "def part_two(sequence: str) -> int:\n",
    "    return count_chars_before_marker(sequence, 14)\n",
    "\n",
    "\n",
    "print(part_two(sequence))"
   ]
  }
 ],
 "metadata": {
  "kernelspec": {
   "display_name": "Python 3.10.8 ('advent-of-code': venv)",
   "language": "python",
   "name": "python3"
  },
  "language_info": {
   "codemirror_mode": {
    "name": "ipython",
    "version": 3
   },
   "file_extension": ".py",
   "mimetype": "text/x-python",
   "name": "python",
   "nbconvert_exporter": "python",
   "pygments_lexer": "ipython3",
   "version": "3.10.8"
  },
  "orig_nbformat": 4,
  "vscode": {
   "interpreter": {
    "hash": "73180573fb7f522afd9f87230af4f0407ffe597959ff00cf771e6af092e2ba4e"
   }
  }
 },
 "nbformat": 4,
 "nbformat_minor": 2
}
