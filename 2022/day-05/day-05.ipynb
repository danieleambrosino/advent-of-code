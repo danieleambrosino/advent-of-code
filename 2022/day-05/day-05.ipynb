{
 "cells": [
  {
   "cell_type": "markdown",
   "metadata": {},
   "source": [
    "# Day 5: Supply Stacks\n",
    "## Part One\n",
    "<p>The expedition can depart as soon as the final supplies have been unloaded from the ships. Supplies are stored in stacks of marked <em>crates</em>, but because the needed supplies are buried under many other crates, the crates need to be rearranged.</p>\n",
    "<p>The ship has a <em>giant cargo crane</em> capable of moving crates between stacks. To ensure none of the crates get crushed or fall over, the crane operator will rearrange them in a series of carefully-planned steps. After the crates are rearranged, the desired crates will be at the top of each stack.</p>\n",
    "<p>The Elves don't want to interrupt the crane operator during this delicate procedure, but they forgot to ask her <em>which</em> crate will end up where, and they want to be ready to unload them as soon as possible so they can embark.</p>\n",
    "<p>They do, however, have a drawing of the starting stacks of crates <em>and</em> the rearrangement procedure (your puzzle input). For example:</p>\n",
    "<pre><code>    [D]    \n",
    "[N] [C]    \n",
    "[Z] [M] [P]\n",
    " 1   2   3 \n",
    "\n",
    "move 1 from 2 to 1\n",
    "move 3 from 1 to 3\n",
    "move 2 from 2 to 1\n",
    "move 1 from 1 to 2\n",
    "</code></pre>\n",
    "<p>In this example, there are three stacks of crates. Stack 1 contains two crates: crate <code>Z</code> is on the bottom, and crate <code>N</code> is on top. Stack 2 contains three crates; from bottom to top, they are crates <code>M</code>, <code>C</code>, and <code>D</code>. Finally, stack 3 contains a single crate, <code>P</code>.</p>\n",
    "<p>Then, the rearrangement procedure is given. In each step of the procedure, a quantity of crates is moved from one stack to a different stack. In the first step of the above rearrangement procedure, one crate is moved from stack 2 to stack 1, resulting in this configuration:</p>\n",
    "<pre><code>[D]        \n",
    "[N] [C]    \n",
    "[Z] [M] [P]\n",
    " 1   2   3 \n",
    "</code></pre>\n",
    "<p>In the second step, three crates are moved from stack 1 to stack 3. Crates are moved <em>one at a time</em>, so the first crate to be moved (<code>D</code>) ends up below the second and third crates:</p>\n",
    "<pre><code>        [Z]\n",
    "        [N]\n",
    "    [C] [D]\n",
    "    [M] [P]\n",
    " 1   2   3\n",
    "</code></pre>\n",
    "<p>Then, both crates are moved from stack 2 to stack 1. Again, because crates are moved <em>one at a time</em>, crate <code>C</code> ends up below crate <code>M</code>:</p>\n",
    "<pre><code>        [Z]\n",
    "        [N]\n",
    "[M]     [D]\n",
    "[C]     [P]\n",
    " 1   2   3\n",
    "</code></pre>\n",
    "<p>Finally, one crate is moved from stack 1 to stack 2:</p>\n",
    "<pre><code>        [<em>Z</em>]\n",
    "        [N]\n",
    "        [D]\n",
    "[<em>C</em>] [<em>M</em>] [P]\n",
    " 1   2   3\n",
    "</code></pre>\n",
    "<p>The Elves just need to know <em>which crate will end up on top of each stack</em>; in this example, the top crates are <code>C</code> in stack 1, <code>M</code> in stack 2, and <code>Z</code> in stack 3, so you should combine these together and give the Elves the message <code><em>CMZ</em></code>.</p>\n",
    "<p><em>After the rearrangement procedure completes, what crate ends up on top of each stack?</em></p>\n",
    "</article>"
   ]
  },
  {
   "cell_type": "markdown",
   "metadata": {},
   "source": [
    "### Solution\n",
    "Let's parse the stacks."
   ]
  },
  {
   "cell_type": "code",
   "execution_count": 26,
   "metadata": {},
   "outputs": [],
   "source": [
    "from collections import defaultdict\n",
    "\n",
    "\n",
    "def parse_stacks() -> dict[int, list[str]]:\n",
    "    stacks: dict[int, list[str]] = defaultdict(list)\n",
    "    with open(\"input.txt\", \"r\") as file:\n",
    "        for line in file:\n",
    "            if \"[\" not in line:\n",
    "                break\n",
    "            for i in range(1, len(line), 4):\n",
    "                if line[i] != \" \":\n",
    "                    stacks[(i//4)+1].append(line[i])\n",
    "    for i, stack in stacks.items():\n",
    "        stacks[i] = list(reversed(stack))\n",
    "    return stacks"
   ]
  },
  {
   "cell_type": "markdown",
   "metadata": {},
   "source": [
    "Now let's parse the instructions."
   ]
  },
  {
   "cell_type": "code",
   "execution_count": 27,
   "metadata": {},
   "outputs": [],
   "source": [
    "from dataclasses import dataclass\n",
    "\n",
    "\n",
    "@dataclass(frozen=True)\n",
    "class Instruction:\n",
    "    amount: int\n",
    "    src_stack: int\n",
    "    dst_stack: int\n",
    "\n",
    "\n",
    "def parse_instructions() -> list[Instruction]:\n",
    "    import re\n",
    "    regex = re.compile(r\"move (\\d+) from (\\d+) to (\\d+)\")\n",
    "\n",
    "    instructions: list[Instruction] = []\n",
    "    with open(\"input.txt\", \"r\") as file:\n",
    "        # skip the stacks\n",
    "        while file.readline() != \"\\n\":\n",
    "            continue\n",
    "        for line in file:\n",
    "            chunks = re.match(regex, line.strip())\n",
    "            if not chunks:\n",
    "                break\n",
    "            amount, src_stack, dst_stack = map(int, chunks.groups())\n",
    "            instructions.append(Instruction(amount, src_stack, dst_stack))\n",
    "\n",
    "    return instructions"
   ]
  },
  {
   "cell_type": "markdown",
   "metadata": {},
   "source": [
    "Now it's just a matter of popping and appending crates 🙂"
   ]
  },
  {
   "cell_type": "code",
   "execution_count": 28,
   "metadata": {},
   "outputs": [
    {
     "name": "stdout",
     "output_type": "stream",
     "text": [
      "TWSGQHNHL\n"
     ]
    }
   ],
   "source": [
    "def part_one() -> str:\n",
    "    stacks = parse_stacks()\n",
    "    instructions = parse_instructions()\n",
    "\n",
    "    for instruction in instructions:\n",
    "        crates_to_move = (stacks[instruction.src_stack].pop()\n",
    "                          for _ in range(instruction.amount))\n",
    "        for crate in crates_to_move:\n",
    "            stacks[instruction.dst_stack].append(crate)\n",
    "\n",
    "    return \"\".join(stack[-1] for _, stack in sorted(stacks.items()))\n",
    "\n",
    "\n",
    "print(part_one())"
   ]
  },
  {
   "cell_type": "markdown",
   "metadata": {},
   "source": [
    "## Part Two\n",
    "<p>As you watch the crane operator expertly rearrange the crates, you notice the process isn't following your prediction.</p>\n",
    "<p>Some mud was covering the writing on the side of the crane, and you quickly wipe it away. The crane isn't a CrateMover 9000 - it's a <em><span title=\"It's way better than the old CrateMover 1006.\">CrateMover 9001</span></em>.</p>\n",
    "<p>The CrateMover 9001 is notable for many new and exciting features: air conditioning, leather seats, an extra cup holder, and <em>the ability to pick up and move multiple crates at once</em>.</p>\n",
    "<p>Again considering the example above, the crates begin in the same configuration:</p>\n",
    "<pre><code>    [D]    \n",
    "[N] [C]    \n",
    "[Z] [M] [P]\n",
    " 1   2   3 \n",
    "</code></pre>\n",
    "<p>Moving a single crate from stack 2 to stack 1 behaves the same as before:</p>\n",
    "<pre><code>[D]        \n",
    "[N] [C]    \n",
    "[Z] [M] [P]\n",
    " 1   2   3 \n",
    "</code></pre>\n",
    "<p>However, the action of moving three crates from stack 1 to stack 3 means that those three moved crates <em>stay in the same order</em>, resulting in this new configuration:</p>\n",
    "<pre><code>        [D]\n",
    "        [N]\n",
    "    [C] [Z]\n",
    "    [M] [P]\n",
    " 1   2   3\n",
    "</code></pre>\n",
    "<p>Next, as both crates are moved from stack 2 to stack 1, they <em>retain their order</em> as well:</p>\n",
    "<pre><code>        [D]\n",
    "        [N]\n",
    "[C]     [Z]\n",
    "[M]     [P]\n",
    " 1   2   3\n",
    "</code></pre>\n",
    "<p>Finally, a single crate is still moved from stack 1 to stack 2, but now it's crate <code>C</code> that gets moved:</p>\n",
    "<pre><code>        [<em>D</em>]\n",
    "        [N]\n",
    "        [Z]\n",
    "[<em>M</em>] [<em>C</em>] [P]\n",
    " 1   2   3\n",
    "</code></pre>\n",
    "<p>In this example, the CrateMover 9001 has put the crates in a totally different order: <code><em>MCD</em></code>.</p>\n",
    "<p>Before the rearrangement process finishes, update your simulation so that the Elves know where they should stand to be ready to unload the final supplies. <em>After the rearrangement procedure completes, what crate ends up on top of each stack?</em></p>\n",
    "</article>"
   ]
  },
  {
   "cell_type": "markdown",
   "metadata": {},
   "source": [
    "### Solution\n",
    "The only difference with respect to part one is that now we have to reverse the order in which crates are stacked."
   ]
  },
  {
   "cell_type": "code",
   "execution_count": 30,
   "metadata": {},
   "outputs": [
    {
     "name": "stdout",
     "output_type": "stream",
     "text": [
      "JNRSCDWPP\n"
     ]
    }
   ],
   "source": [
    "def part_two() -> str:\n",
    "    stacks = parse_stacks()\n",
    "    instructions = parse_instructions()\n",
    "\n",
    "    for instruction in instructions:\n",
    "        crates_to_move = [stacks[instruction.src_stack].pop()\n",
    "                          for _ in range(instruction.amount)]\n",
    "        for crate in reversed(crates_to_move):\n",
    "            stacks[instruction.dst_stack].append(crate)\n",
    "\n",
    "    return \"\".join(stack[-1] for _, stack in sorted(stacks.items()))\n",
    "\n",
    "\n",
    "print(part_two())"
   ]
  }
 ],
 "metadata": {
  "kernelspec": {
   "display_name": "Python 3.10.8 ('advent-of-code': venv)",
   "language": "python",
   "name": "python3"
  },
  "language_info": {
   "codemirror_mode": {
    "name": "ipython",
    "version": 3
   },
   "file_extension": ".py",
   "mimetype": "text/x-python",
   "name": "python",
   "nbconvert_exporter": "python",
   "pygments_lexer": "ipython3",
   "version": "3.10.8"
  },
  "orig_nbformat": 4,
  "vscode": {
   "interpreter": {
    "hash": "73180573fb7f522afd9f87230af4f0407ffe597959ff00cf771e6af092e2ba4e"
   }
  }
 },
 "nbformat": 4,
 "nbformat_minor": 2
}
