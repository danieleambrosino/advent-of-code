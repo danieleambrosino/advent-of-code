{
 "cells": [
  {
   "cell_type": "markdown",
   "metadata": {},
   "source": [
    "<h2>--- Day 8: Treetop Tree House ---</h2><p>The expedition comes across a peculiar patch of tall trees all planted carefully in a grid. The Elves explain that a previous expedition planted these trees as a reforestation effort. Now, they're curious if this would be a good location for a <a href=\"https://en.wikipedia.org/wiki/Tree_house\" target=\"_blank\">tree house</a>.</p>\n",
    "<p>First, determine whether there is enough tree cover here to keep a tree house <em>hidden</em>. To do this, you need to count the number of trees that are <em>visible from outside the grid</em> when looking directly along a row or column.</p>\n",
    "<p>The Elves have already launched a <a href=\"https://en.wikipedia.org/wiki/Quadcopter\" target=\"_blank\">quadcopter</a> to generate a map with the height of each tree (<span title=\"The Elves have already launched a quadcopter (your puzzle input).\">your puzzle input</span>). For example:</p>\n",
    "<pre><code>30373\n",
    "25512\n",
    "65332\n",
    "33549\n",
    "35390\n",
    "</code></pre>\n",
    "<p>Each tree is represented as a single digit whose value is its height, where <code>0</code> is the shortest and <code>9</code> is the tallest.</p>\n",
    "<p>A tree is <em>visible</em> if all of the other trees between it and an edge of the grid are <em>shorter</em> than it. Only consider trees in the same row or column; that is, only look up, down, left, or right from any given tree.</p>\n",
    "<p>All of the trees around the edge of the grid are <em>visible</em> - since they are already on the edge, there are no trees to block the view. In this example, that only leaves the <em>interior nine trees</em> to consider:</p>\n",
    "<ul>\n",
    "<li>The top-left <code>5</code> is <em>visible</em> from the left and top. (It isn't visible from the right or bottom since other trees of height <code>5</code> are in the way.)</li>\n",
    "<li>The top-middle <code>5</code> is <em>visible</em> from the top and right.</li>\n",
    "<li>The top-right <code>1</code> is not visible from any direction; for it to be visible, there would need to only be trees of height <em>0</em> between it and an edge.</li>\n",
    "<li>The left-middle <code>5</code> is <em>visible</em>, but only from the right.</li>\n",
    "<li>The center <code>3</code> is not visible from any direction; for it to be visible, there would need to be only trees of at most height <code>2</code> between it and an edge.</li>\n",
    "<li>The right-middle <code>3</code> is <em>visible</em> from the right.</li>\n",
    "<li>In the bottom row, the middle <code>5</code> is <em>visible</em>, but the <code>3</code> and <code>4</code> are not.</li>\n",
    "</ul>\n",
    "<p>With 16 trees visible on the edge and another 5 visible in the interior, a total of <code><em>21</em></code> trees are visible in this arrangement.</p>\n",
    "<p>Consider your map; <em>how many trees are visible from outside the grid?</em></p>"
   ]
  },
  {
   "cell_type": "code",
   "execution_count": 17,
   "metadata": {},
   "outputs": [
    {
     "name": "stdout",
     "output_type": "stream",
     "text": [
      "1803\n"
     ]
    }
   ],
   "source": [
    "import numpy\n",
    "from numpy.typing import NDArray\n",
    "\n",
    "with open(\"input.txt\", \"r\") as file:\n",
    "    grid = numpy.array([list(map(int, list(l.strip()))) for l in file.readlines()], dtype=numpy.ubyte)\n",
    "\n",
    "visible_trees = numpy.zeros(grid.shape, dtype=numpy.bool_)\n",
    "\n",
    "def normalize_slice(slice: NDArray[numpy.ubyte]) -> NDArray[numpy.ubyte]:\n",
    "    if len(slice) > 0:\n",
    "        return slice\n",
    "    return numpy.array([-1])\n",
    "\n",
    "for i, j in numpy.ndindex(grid.shape):\n",
    "    current = grid[i, j]\n",
    "\n",
    "    left_slice = normalize_slice(grid[i, 0:j])\n",
    "    right_slice = normalize_slice(grid[i, j+1:grid.shape[1]])\n",
    "    top_slice = normalize_slice(grid[0:i, j])\n",
    "    bottom_slice = normalize_slice(grid[i+1:grid.shape[0], j])\n",
    "\n",
    "    if current > max(left_slice) or current > max(right_slice) or current > max(top_slice) or current > max(bottom_slice):\n",
    "        visible_trees[i, j] = True\n",
    "\n",
    "print(numpy.count_nonzero(visible_trees))"
   ]
  },
  {
   "cell_type": "markdown",
   "metadata": {},
   "source": [
    "<h2 id=\"part2\">--- Part Two ---</h2><p>Content with the amount of tree cover available, the Elves just need to know the best spot to build their tree house: they would like to be able to see a lot of <em>trees</em>.</p>\n",
    "<p>To measure the viewing distance from a given tree, look up, down, left, and right from that tree; stop if you reach an edge or at the first tree that is the same height or taller than the tree under consideration. (If a tree is right on the edge, at least one of its viewing distances will be zero.)</p>\n",
    "<p>The Elves don't care about distant trees taller than those found by the rules above; the proposed tree house has large <a href=\"https://en.wikipedia.org/wiki/Eaves\" target=\"_blank\">eaves</a> to keep it dry, so they wouldn't be able to see higher than the tree house anyway.</p>\n",
    "<p>In the example above, consider the middle <code>5</code> in the second row:</p>\n",
    "<pre><code>30373\n",
    "25<em>5</em>12\n",
    "65332\n",
    "33549\n",
    "35390\n",
    "</code></pre>\n",
    "<ul>\n",
    "<li>Looking up, its view is not blocked; it can see <code><em>1</em></code> tree (of height <code>3</code>).</li>\n",
    "<li>Looking left, its view is blocked immediately; it can see only <code><em>1</em></code> tree (of height <code>5</code>, right next to it).</li>\n",
    "<li>Looking right, its view is not blocked; it can see <code><em>2</em></code> trees.</li>\n",
    "<li>Looking down, its view is blocked eventually; it can see <code><em>2</em></code> trees (one of height <code>3</code>, then the tree of height <code>5</code> that blocks its view).</li>\n",
    "</ul>\n",
    "<p>A tree's <em>scenic score</em> is found by <em>multiplying together</em> its viewing distance in each of the four directions. For this tree, this is <code><em>4</em></code> (found by multiplying <code>1 * 1 * 2 * 2</code>).</p>\n",
    "<p>However, you can do even better: consider the tree of height <code>5</code> in the middle of the fourth row:</p>\n",
    "<pre><code>30373\n",
    "25512\n",
    "65332\n",
    "33<em>5</em>49\n",
    "35390\n",
    "</code></pre>\n",
    "<ul>\n",
    "<li>Looking up, its view is blocked at <code><em>2</em></code> trees (by another tree with a height of <code>5</code>).</li>\n",
    "<li>Looking left, its view is not blocked; it can see <code><em>2</em></code> trees.</li>\n",
    "<li>Looking down, its view is also not blocked; it can see <code><em>1</em></code> tree.</li>\n",
    "<li>Looking right, its view is blocked at <code><em>2</em></code> trees (by a massive tree of height <code>9</code>).</li>\n",
    "</ul>\n",
    "<p>This tree's scenic score is <code><em>8</em></code> (<code>2 * 2 * 1 * 2</code>); this is the ideal spot for the tree house.</p>\n",
    "<p>Consider each tree on your map. <em>What is the highest scenic score possible for any tree?</em></p>"
   ]
  },
  {
   "cell_type": "code",
   "execution_count": 18,
   "metadata": {},
   "outputs": [
    {
     "name": "stdout",
     "output_type": "stream",
     "text": [
      "[[18  1  2 ...  1  2  2]\n",
      " [ 1  1  1 ...  7  1  1]\n",
      " [ 2  4  8 ...  4  2  2]\n",
      " ...\n",
      " [24  1 12 ...  1  2 36]\n",
      " [ 1 25  1 ...  4  1  1]\n",
      " [ 4  1  4 ...  1 12  1]]\n",
      "268912\n"
     ]
    }
   ],
   "source": [
    "scenic_scores = numpy.ones(grid.shape, dtype=numpy.uint)\n",
    "for i, j in numpy.ndindex(grid.shape):\n",
    "    current = grid[i, j]\n",
    "\n",
    "    left_slice = numpy.flip(grid[i, 0:j])\n",
    "    right_slice = grid[i, j+1:grid.shape[1]]\n",
    "    top_slice = numpy.flip(grid[0:i, j])\n",
    "    bottom_slice = grid[i+1:grid.shape[0], j]\n",
    "\n",
    "    for slice in left_slice, right_slice, top_slice, bottom_slice:\n",
    "        if len(slice) == 0:\n",
    "            continue\n",
    "        counter = 0\n",
    "        for tree in slice:\n",
    "            counter += 1\n",
    "            if tree >= current:\n",
    "                break\n",
    "        scenic_scores[i, j] *= counter\n",
    "print(scenic_scores.max())"
   ]
  }
 ],
 "metadata": {
  "kernelspec": {
   "display_name": "Python 3.10.8 ('advent-of-code': venv)",
   "language": "python",
   "name": "python3"
  },
  "language_info": {
   "codemirror_mode": {
    "name": "ipython",
    "version": 3
   },
   "file_extension": ".py",
   "mimetype": "text/x-python",
   "name": "python",
   "nbconvert_exporter": "python",
   "pygments_lexer": "ipython3",
   "version": "3.10.8"
  },
  "orig_nbformat": 4,
  "vscode": {
   "interpreter": {
    "hash": "73180573fb7f522afd9f87230af4f0407ffe597959ff00cf771e6af092e2ba4e"
   }
  }
 },
 "nbformat": 4,
 "nbformat_minor": 2
}
